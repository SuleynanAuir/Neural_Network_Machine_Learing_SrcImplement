{
  "cells": [
    {
      "cell_type": "markdown",
      "metadata": {
        "id": "O9S-IAyLspXe"
      },
      "source": [
        "# Machine Learning : Neural Network Exercise\n",
        "\n",
        "<mark>CIFAR-10 Data Base Multi Classification</mark>\n",
        "\n",
        "<mark>Mount Google Cloud Drive to process Data\n",
        "\n",
        "## Introduction\n",
        "In this exercise, you will implement the backpropagation algorithm for neural networks and apply it to the task of the CIFAR-10 dataset, which is an image classification dataset consisting of ```60000 32x32-pixel color images``` from ```10 categories```, with 50000 for training and 10000 for testing.\n",
        "\n",
        "\n",
        "## 1. Data loading and visualization\n",
        "\n",
        "Loaded the CIFAR-10 dataset by using unpickle, each of the batch files contains a dictionary with the following elements:\n",
        "\n",
        "- data -- a ```10000x3072``` numpy array of uint8s. Each row of the array stores a 32x32 colour image. ```The first 1024``` entries contain the red channel values, ```the next 1024``` the green, and ```the final 1024``` the blue. The image is stored in row-major order, so that the first 32 entries of the array are the red channel values of the first row of the image.\n",
        "-\n",
        "- labels -- a list of 10000 numbers in the range ```0-9```. The number at index i indicates the label of the ith image in the array data."
      ]
    },
    {
      "cell_type": "markdown",
      "source": [
        "## Mount Google Cloud Drive"
      ],
      "metadata": {
        "id": "qrFoAJ6GtyEt"
      }
    },
    {
      "cell_type": "code",
      "source": [
        "from google.colab import drive\n",
        "drive.mount('/content/drive')"
      ],
      "metadata": {
        "colab": {
          "base_uri": "https://localhost:8080/"
        },
        "id": "5BMfwkzAsupu",
        "outputId": "39e9c0e4-e348-4f6b-f66e-825407b74e2a"
      },
      "execution_count": 3,
      "outputs": [
        {
          "output_type": "stream",
          "name": "stdout",
          "text": [
            "Mounted at /content/drive\n"
          ]
        }
      ]
    },
    {
      "cell_type": "markdown",
      "source": [
        "`pay attention to the Data Input X's format: (50000, 3072)`\n",
        "\n",
        "**Then, we know that the data's images are not split into three channels type (original basic image's shape: channels-height-width)**"
      ],
      "metadata": {
        "id": "_qPU_QxmYmbz"
      }
    },
    {
      "cell_type": "code",
      "execution_count": 4,
      "metadata": {
        "colab": {
          "base_uri": "https://localhost:8080/"
        },
        "id": "xEgvQDmTspXg",
        "outputId": "8c39b586-5e4c-4627-ee57-6ace4624e265"
      },
      "outputs": [
        {
          "output_type": "stream",
          "name": "stdout",
          "text": [
            "Check the shape of training data: X: (50000, 3072), y: (50000,)\n"
          ]
        }
      ],
      "source": [
        "# import necessary packages\n",
        "import numpy as np\n",
        "import pandas as pd\n",
        "import matplotlib, os, pickle\n",
        "import matplotlib.pyplot as plt\n",
        "\n",
        "np.random.seed(42)\n",
        "%matplotlib inline\n",
        "\n",
        "## Unpickle function for CIFAR-10 dataset\n",
        "def unpickle(file):\n",
        "    with open(file, 'rb') as fo:\n",
        "        dict = pickle.load(fo, encoding='bytes')\n",
        "    return dict\n",
        "\n",
        "## Load CIFAR-10 data, including training and testing.\n",
        "\n",
        "# local path\n",
        "# data_dir = \"./cifar-10-batches-py/\"\n",
        "\n",
        "# google cloud drive path\n",
        "data_dir = \"/content/drive/MyDrive/cifar-10-batches-py\"\n",
        "\n",
        "Xs=[]\n",
        "ys=[]\n",
        "for i in range(1,6):\n",
        "    batch_path = os.path.join(data_dir, f'data_batch_{i}')\n",
        "    input_dict = unpickle(batch_path)\n",
        "    data_dict_decoded = {k.decode('utf8'): v for k, v in input_dict.items()}\n",
        "    X = data_dict_decoded['data']\n",
        "    y = data_dict_decoded['labels']\n",
        "    Xs.append(X)\n",
        "    ys.append(y)\n",
        "\n",
        "X_train = np.concatenate(Xs)\n",
        "y_train = np.concatenate(ys)\n",
        "\n",
        "print(f\"Check the shape of training data: X: {X_train.shape}, y: {y_train.shape}\")\n",
        "\n",
        "## Load test-dataset file\n",
        "X_test = []\n",
        "y_test = []\n",
        "batch_path = os.path.join(data_dir, f'test_batch')\n",
        "data_dict = unpickle(batch_path)\n",
        "X_test = data_dict[b'data']\n",
        "y_test = data_dict[b'labels']"
      ]
    },
    {
      "cell_type": "markdown",
      "source": [
        "<mark>(1) Data Input Shape: (50000, 3072): the first dimension is img's counts</mark>\n",
        "\n",
        "<mark>(2) the image's original default (channel-height-width)</mark>\n",
        "\n",
        "\n",
        "> key points to deal with 'un-split image shape: transform (1, 3072) -> (1, 32, 32, 3)'\n",
        "\n",
        "> it's a four dimension processed shape\n",
        "\n",
        "- Note: (about the shape transformation of photos)\n",
        "  - The original (most common) shape format of IMG is **(channels-height-width)**, so the <mark>first reshape<mark> should be <mark>single_img.reshape(3, height, width)<mark>\n",
        "    - <mark>Reason<mark>:\n",
        "      - setting a counter example at first, for it's all-dimension multipy result, then as long as its 32, 32, 3 these three number, then don't need to take their relative positions into account, then it can reshape successfully. but think about that: <mark>yet the each certain channel's corresponding picture (single color, one-channel graph) counts a lot, it must gurantee the certain image's array is on its correct dimension position. (so, channel-first for original format)<mark>\n",
        "\n",
        "    - otherwise, if directly reshape (32, 32, 3): it becomes that: a img has 32 channels, and each channel has (32*3) shape of sub-img\n",
        "\n",
        "    - (3, 32, 32), **linking with the dimension shape of high-dim array, the last two dimension is the matrix's shape (_, matrix_height, matrix_width)**\n",
        "\n",
        "  - then, using transform (1, 2, 0)\n",
        "\n",
        "\n",
        "<mark>(3) image's scling **Origianl_pixels / 255**\n",
        "\n",
        "- Explanation: Why not change the IMG presentation?\n",
        "not change the original presentation. **Image rendering** is based on the **relative differences** and brightness **relationships** of pixel values, **not just absolute pixel values**.\n",
        "Regardless of whether the pixel values are 0-255 or 0-1, the color and brightness of the image are based on relative proportions.\n",
        "\n",
        "- Explanation: Why Doing so?\n",
        "Image processing in deep learning: In many deep learning frameworks, **image data usually needs to be normalized to [0, 1]**. This is because the **activation functions** in neural networks (such as Sigmoid or ReLU) usually **expect input** values ​​to be **within a standardized range** to avoid gradient explosion or gradient vanishing problems.\n",
        "\n",
        "Image data preprocessing: Normalizing data to [0, 1] or other ranges helps **speed up (avoid gradient explosion or gradient vanishing)** the training process and improve the training efficiency of the model"
      ],
      "metadata": {
        "id": "jOuSdDYxZQWT"
      }
    },
    {
      "cell_type": "code",
      "execution_count": 5,
      "metadata": {
        "colab": {
          "base_uri": "https://localhost:8080/",
          "height": 345
        },
        "id": "clIjhCNRspXh",
        "outputId": "b0513294-85a7-4330-a4c2-e447b1281e64"
      },
      "outputs": [
        {
          "output_type": "display_data",
          "data": {
            "text/plain": [
              "<Figure size 400x400 with 25 Axes>"
            ],
            "image/png": "[encoded data removed]"
          },
          "metadata": {}
        }
      ],
      "source": [
        "def plot_sample_image(X, num_samples):\n",
        "    \"\"\" sample images and show them\n",
        "    assume the image is square\"\"\"\n",
        "    sample_ids = np.random.choice(X.shape[0], num_samples, replace=False)\n",
        "    sampled_X = X[sample_ids]\n",
        "\n",
        "    n = int(np.sqrt(num_samples))\n",
        "    fig, ax_array = plt.subplots(nrows=n, ncols=n, sharey=True, sharex=True, figsize=(4, 4))\n",
        "    for i, ax in enumerate(ax_array.flat):\n",
        "        if i < len(sampled_X):\n",
        "            img = sampled_X[i].reshape(3, 32, 32).transpose([1, 2, 0])\n",
        "            ax.imshow(img/255)\n",
        "            ax.axis('off')\n",
        "\n",
        "plot_sample_image(X_train, 25)\n",
        "plt.show()"
      ]
    },
    {
      "cell_type": "markdown",
      "metadata": {
        "id": "H7kblIu0spXh"
      },
      "source": [
        "### <span style=\"color:red\"> TO-DO (10')⬇︎</span>\n",
        "<span style=\"color:red\">\n",
        "\n",
        "- Following the plot_sample_image() function, please define a plot_single_image() function that take one input vector ```x.shape(): (3072,)```, and display the ```32X32``` image.\n",
        "\n",
        "- Add inline comments to your code to explain why you reshape like that.\n",
        "\n",
        "</span>\n"
      ]
    },
    {
      "cell_type": "code",
      "execution_count": 6,
      "metadata": {
        "colab": {
          "base_uri": "https://localhost:8080/"
        },
        "id": "xlUhliMSspXh",
        "outputId": "f62d04b7-b069-40ec-93d8-524b678a927a"
      },
      "outputs": [
        {
          "output_type": "execute_result",
          "data": {
            "text/plain": [
              "36174"
            ]
          },
          "metadata": {},
          "execution_count": 6
        }
      ],
      "source": [
        "# print(f'X_train shape: {X_train.shape}')\n",
        "# print(f'X_test shape: {X_test.shape}')\n",
        "\n",
        "# # 32 * 32 * 3\n",
        "aaaa = np.random.choice(X_train.shape[0])\n",
        "aaaa\n",
        "# choose an IMG\n",
        "# X_train[1].reshape(3, 32, 32)"
      ]
    },
    {
      "cell_type": "code",
      "execution_count": 7,
      "metadata": {
        "id": "HPzEfILpspXi"
      },
      "outputs": [],
      "source": [
        "# the X data is original shape: X: (50000, 3072), it combined the original IMG dimension of height & width tohether (multipy them together!)\n",
        "\n",
        "# so, when X: (50000, 3072) the first dimension is 50000, we randomly pick one as the index to be the No. of IMG, then reshape the image shape to be (channels, height, width)"
      ]
    },
    {
      "cell_type": "code",
      "execution_count": 8,
      "metadata": {
        "colab": {
          "base_uri": "https://localhost:8080/"
        },
        "id": "aThJTjGDspXi",
        "outputId": "0787472e-a8d2-4f22-aefa-be5f2c5fa737"
      },
      "outputs": [
        {
          "output_type": "execute_result",
          "data": {
            "text/plain": [
              "(3072,)"
            ]
          },
          "metadata": {},
          "execution_count": 8
        }
      ],
      "source": [
        "X_train[762].shape"
      ]
    },
    {
      "cell_type": "markdown",
      "metadata": {
        "id": "uKZEdfo6spXi"
      },
      "source": [
        "`original data format` of the image. The original data is arranged in the order of `(channels, rows, columns)`"
      ]
    },
    {
      "cell_type": "code",
      "execution_count": 9,
      "metadata": {
        "colab": {
          "base_uri": "https://localhost:8080/",
          "height": 458
        },
        "id": "DlHozBYOspXi",
        "outputId": "78afb8bf-f1db-4860-dedc-4ccd765929fc"
      },
      "outputs": [
        {
          "output_type": "stream",
          "name": "stdout",
          "text": [
            "Original IMG Shape: (3072,)\n",
            "Reshape IMG Shape: (32, 32, 3)\n"
          ]
        },
        {
          "output_type": "display_data",
          "data": {
            "text/plain": [
              "<Figure size 500x500 with 1 Axes>"
            ],
            "image/png": "[encoded data removed]"
          },
          "metadata": {}
        }
      ],
      "source": [
        "import numpy as np\n",
        "import matplotlib.pyplot as plt\n",
        "\n",
        "def plot_single_image(x):\n",
        "    ## Your code goes here ...\n",
        "    ## Donnot forget to add inline comments ...\n",
        "\n",
        "    fig, ax = plt.subplots(1, 1, sharey=False, sharex=False, figsize=(5, 5))\n",
        "\n",
        "    for i, ax in enumerate([ax]):  # Single ax since it's 1 image\n",
        "        if i < len(x):\n",
        "            print(f'Original IMG Shape: {x.shape}')\n",
        "            # reshape first then transpose (cuz the img is channles-first as an img for each corresponding channel)\n",
        "            img = x.reshape(3, 32, 32).transpose([1, 2, 0])  # Reshaping and transposing\n",
        "            print(f'Reshape IMG Shape: {img.shape}')\n",
        "            ax.imshow(img/225)  # Normalizing pixel values (dont change the relative difference of image pixels' relation)\n",
        "            ax.axis('off')  # Turn off the axis\n",
        "\n",
        "# Use your defined function to plot the No.762 image\n",
        "# different from the original multi sample plotting presentation, this is setting a certain NO of IMG\n",
        "plot_single_image(X_train[762])\n",
        "plt.show()"
      ]
    },
    {
      "cell_type": "markdown",
      "metadata": {
        "id": "NEWILqqYspXi"
      },
      "source": [
        "Labels in CIFAR-10 are integers from 0 to 9, representing 10 different classes:\n",
        "- 0: airplane,\n",
        "- 1: automobile,\n",
        "- 2: bird,\n",
        "- 3: cat,\n",
        "- 4: deer,\n",
        "- 5: dog,\n",
        "- 6: frog,\n",
        "- 7: horse,\n",
        "- 8: ship,\n",
        "- 9: truck.\n",
        "\n",
        "For the purpose of training a neural network, we need to recode the labels into a vector where all elements are 0 except for the index corresponding to the class, which is 1. This is ```One-hot Encoding``` transform.\n",
        "\n",
        "Given that CIFAR-10 has 10 classes, if you have ```a label 3```, its one-hot encoded representation would be ```[0, 0, 0, 1, 0, 0, 0, 0, 0, 0]```.\n",
        "\n",
        "- label 0: [1, 0, 0, 0, 0, 0, 0, 0, 0, 0]\n",
        "- label 1: [0, 1, 0, 0, 0, 0, 0, 0, 0, 0]\n",
        "- label 2: [0, 0, 1, 0, 0, 0, 0, 0, 0, 0]\n",
        "- label 3: [0, 0, 0, 1, 0, 0, 0, 0, 0, 0]\n",
        "- label 4: [0, 0, 0, 0, 1, 0, 0, 0, 0, 0]\n",
        "- label 5: [0, 0, 0, 0, 0, 1, 0, 0, 0, 0]\n",
        "- label 6: [0, 0, 0, 0, 0, 0, 1, 0, 0, 0]\n",
        "- label 7: [0, 0, 0, 0, 0, 0, 0, 1, 0, 0]\n",
        "- label 8: [0, 0, 0, 0, 0, 0, 0, 0, 1, 0]\n",
        "- label 9: [0, 0, 0, 0, 0, 0, 0, 0, 0, 1]\n",
        "\n",
        "## <mark>Labels Encoding<mark>\n",
        "\n",
        "- length: len(labels) => the length of binary encoding array\n",
        "- for the label categorical is **discret**, and most of them **dont have a relative order (so directly encoding is not effective, like 1, 2, 3, .... N_labels)**\n",
        "\n",
        "- for multi classification tasks, <mark>softmax()<mark>, we know that **the output dimension of hidden layer is (xxx, n_labels), <<< output dim: n_labels**, so we receive the same dimension as the label counts and then using **softmax to transform into prob**. (in short: what softmax receive is the same dimension as output labels' counts)\n",
        "\n",
        "- using **softmax & One-hot Encoding**: can better compute **Cross-Entropy Loss**\n",
        "\n",
        "Dive into the formula to make sense 'Why Softmax + One-Hot Encoding is good-pair?'\n",
        "\n",
        "  - $$Cross Entropy Loss = -\\sum_{i=1}^{N} y_i \\cdot \\log(p_i)$$\n",
        "    - suppose we have three labels classfication: **[0, 1, 0]**\n",
        "    - then after Model's computation, forward propagation, softmax activation, then we get **[0.2, 0.7, 0.1]**\n",
        "    - computed Cross Entropy Loss: <mark>|key points for simple computation|: (One-Hot Encoding has 0 for non-target)<mark>, so it can just directly compute:\n",
        "    - $$Loss = -(y_A \\cdot \\log(p_A) + y_B \\cdot \\log(p_B) + y_C \\cdot \\log(p_C))$$\n",
        "\n",
        "    - $$Loss= -(y_B \\cdot \\log(p_B)) $$\n",
        "\n",
        "  <mark>Good Design on 'LOSS' & 'One-Hot Encoding'<mark>\n",
        "    - **Good Design: why this (1) 0 in One-Hot Encoding (2) Cross Entropy design for log(x) & y_i * log(x)**\n",
        "      - (1) **only remaining** the correct result added into the loss, make the correct answer **maximize its probability.**\n",
        "      - (2) **using log(x)**: make the punishment for no-maximize correct answer situation.\n",
        "      - (3) to sum up: it try to maximize the probability for correct answer.\n",
        "    \n",
        "\n",
        "<mark>Additional Material For One-Hot Encoding<mark>\n",
        "1. for classification, it's not only has one target column for classfication target.\n",
        "\n",
        "- Col1 / Col2\n",
        "- [Tank][GouTi]\n",
        "- [Tank][Ground]\n",
        "- [DPS] [GouC]\n",
        "- [DPS] [Ground]\n",
        "- [DPS] [long-dist]\n",
        "- [Spt] [func]\n",
        "\n",
        "-> for the above, we have two columns together to define a complete label type.\n",
        "\n",
        "so, we need to (1) **combine them as a whole single column**, like [Tank_Gouti] **(total labels: col1_total * col2_total)**\n",
        "\n",
        "```python\n",
        "# encoder for multi-col classification combination\n",
        "# obj\n",
        "enc = OneHotEncoder(handle_unknown='ignore')\n",
        "enc\n",
        "<<< OneHotEncoder(handle_unknown='ignore')\n",
        "\n",
        "\n",
        "X = [['Male', 1], ['Female', 3], ['Female', 2]]\n",
        ">>> enc.fit(X)\n",
        "\n",
        "\n",
        ">>> enc.categories_\n",
        "<<< [array(['Female', 'Male'], dtype=object), array([1, 2, 3], dtype=object)]\n",
        "\n",
        "\n",
        ">>> enc.transform([['Female', 1], ['Male', 4]]).toarray()\n",
        "<<< array([[1., 0., 1., 0., 0.],\n",
        "       [0., 1., 0., 0., 0.]])\n",
        "\n",
        "\n",
        ">>> enc.inverse_transform([[0, 1, 1, 0, 0], [0, 0, 0, 1, 0]])\n",
        "<<< array([['Male', 1],\n",
        "       [None, 2]], dtype=object)\n",
        "```\n",
        "\n",
        "\n",
        "\n",
        "\n",
        "\n",
        "### <span style=\"color:red\"> TO-DO (5')⬇︎</span>\n",
        "<span style=\"color:red\">\n",
        "\n",
        "- Finish the code below to implement \"one-hot\" encoding of y (using import package OneHotEncoder).\n",
        "- Get the answer of ```print```\n",
        "</span>"
      ]
    },
    {
      "cell_type": "code",
      "execution_count": 10,
      "metadata": {
        "colab": {
          "base_uri": "https://localhost:8080/"
        },
        "id": "wUKGSFBdspXj",
        "outputId": "5c9efef1-3a1f-4b4f-a2d1-d0d8333f1e02"
      },
      "outputs": [
        {
          "output_type": "stream",
          "name": "stdout",
          "text": [
            "y_train.shape: (50000,)\n",
            "{np.int64(0), np.int64(1), np.int64(2), np.int64(3), np.int64(4), np.int64(5), np.int64(6), np.int64(7), np.int64(8), np.int64(9)}\n"
          ]
        },
        {
          "output_type": "execute_result",
          "data": {
            "text/plain": [
              "array([6, 9, 9, ..., 9, 1, 1])"
            ]
          },
          "metadata": {},
          "execution_count": 10
        }
      ],
      "source": [
        "print(f'y_train.shape: {y_train.shape}')\n",
        "print(set(y_train))\n",
        "y_train"
      ]
    },
    {
      "cell_type": "code",
      "execution_count": 11,
      "metadata": {
        "colab": {
          "base_uri": "https://localhost:8080/"
        },
        "id": "A4sIm6kBspXj",
        "outputId": "7730c627-0a8d-4f1a-89f5-441d61104952"
      },
      "outputs": [
        {
          "output_type": "stream",
          "name": "stdout",
          "text": [
            "Your one-hot shape: (50000, 10), \n",
            "Check if you get the correct format of y: \n",
            "(np.int64(9), array([0., 0., 0., 0., 0., 0., 0., 0., 0., 1.]))\n"
          ]
        }
      ],
      "source": [
        "from sklearn.preprocessing import OneHotEncoder\n",
        "\n",
        "# OneHotEncoder Object\n",
        "encoder = OneHotEncoder(sparse_output=False)\n",
        "\n",
        "## Complete your one-hot encoding\n",
        "y_train_reshape = y_train.reshape(50000, 1)\n",
        "y_onehot = encoder.fit_transform(y_train_reshape)\n",
        "\n",
        "## Get the print answer ...\n",
        "print(f\"Your one-hot shape: {y_onehot.shape}, \\nCheck if you get the correct format of y: \\n{y_train[1], y_onehot[1,:]}\")\n",
        "\n",
        "# y_onehot\n",
        "# y_train"
      ]
    },
    {
      "cell_type": "markdown",
      "metadata": {
        "id": "s3376SZLspXj"
      },
      "source": [
        "### <span style=\"color:red\"> TO-DO (5')⬇︎</span>\n",
        "<span style=\"color:red\">\n",
        "\n",
        "- Normalizing the pixel values of input `X_train` and `X_test` to a range of 0 to 1 by using `Z-Score` normalization.\n",
        "\n",
        "</span>"
      ]
    },
    {
      "cell_type": "code",
      "execution_count": 12,
      "metadata": {
        "colab": {
          "base_uri": "https://localhost:8080/"
        },
        "id": "TQXiQ2vkspXj",
        "outputId": "38ec0ae4-2c44-43e4-84d2-cee0fb38f011"
      },
      "outputs": [
        {
          "output_type": "stream",
          "name": "stdout",
          "text": [
            "X_train.shape: (50000, 3072)\n",
            "X_test.shape: (10000, 3072)\n",
            "X_train.type: <class 'numpy.ndarray'>\n"
          ]
        }
      ],
      "source": [
        "print(f'X_train.shape: {X_train.shape}')\n",
        "print(f'X_test.shape: {X_test.shape}')\n",
        "print(f'X_train.type: {type(X_train)}')"
      ]
    },
    {
      "cell_type": "code",
      "execution_count": 13,
      "metadata": {
        "id": "evcvpps3spXj"
      },
      "outputs": [],
      "source": [
        "# we only normalize on X data, not on y target"
      ]
    },
    {
      "cell_type": "markdown",
      "source": [
        "<mark>scaling (using (x-mean) / std) + normalization<mark>"
      ],
      "metadata": {
        "id": "UGOunLOT783d"
      }
    },
    {
      "cell_type": "code",
      "execution_count": 14,
      "metadata": {
        "colab": {
          "base_uri": "https://localhost:8080/"
        },
        "id": "CsXs1miBspXj",
        "outputId": "a7a919b7-9852-4cfc-f68f-3e1c14e2c43e"
      },
      "outputs": [
        {
          "output_type": "stream",
          "name": "stdout",
          "text": [
            "[ 0.51897733  0.08250084 -0.24485653 ...  0.28515064  0.33191597\n",
            "  0.36309287]\n",
            "[1.77129452 1.708854   1.72446413 ... 0.88151717 1.08444885 1.20932988]\n"
          ]
        }
      ],
      "source": [
        "## Your normalization here\n",
        "## ???\n",
        "def norm(X):\n",
        "    one_dim_X = X.reshape(1, -1)\n",
        "\n",
        "    # mean\n",
        "    u = np.mean(one_dim_X)\n",
        "\n",
        "    # std\n",
        "    std = np.std(one_dim_X)\n",
        "\n",
        "    norm_X = (X - u) / std\n",
        "\n",
        "    return norm_X\n",
        "\n",
        "X_train = norm(X_train)\n",
        "X_test = norm(X_test)\n",
        "\n",
        "# X_train[1].shape\n",
        "print(X_train[1])\n",
        "print(X_test[1])"
      ]
    },
    {
      "cell_type": "markdown",
      "metadata": {
        "id": "QPouciJQspXj"
      },
      "source": [
        "## 2. Model Representation\n",
        "\n",
        "Our neural network is shown in Figure below. It has 3 layers:\n",
        "- an input layer,\n",
        "- a hidden layer,\n",
        "- an output layer.\n",
        "\n",
        "Recall that our inputs are pixel values of digit images. Since the images are of size  `3 x 32 x 32`, this gives us `3072` input layer units (not counting the extra bias unit which always outputs 1). The hidden layer has `512 units`. And the output layer has `10 unit` (corresponding to the 10 digit classes).\n",
        "<!-- ![nn_model](./mlp.png) -->\n",
        "<!-- from IPython.display import Image, display\n",
        "display(Image(filename='./mlp.png', width=300)) -->\n",
        "![image-2.png](attachment:image-2.png)\n",
        "\n",
        "Initializing the neural network with the shpaes of the following:"
      ]
    },
    {
      "cell_type": "code",
      "execution_count": 15,
      "metadata": {
        "id": "nY-PJ6MaspXk"
      },
      "outputs": [],
      "source": [
        "input_size = 3072\n",
        "hidden_size = 256\n",
        "num_labels = 10"
      ]
    },
    {
      "cell_type": "markdown",
      "metadata": {
        "id": "98KZ9y1YspXk"
      },
      "source": [
        "### 2.1 Define activation function\n",
        "\n",
        "In neural networks, the choice of activation function depends on the task and the layer’s role. For multi-class classification tasks where classes are mutually exclusive, you need to choose an activation function that is suitable for multi-label classification, not binary classification.\n",
        "\n",
        "The sigmoid function is defined as：\n",
        " $$ g\\left( z \\right)=\\frac{1}{1+{{e}^{-z}}}. $$\n",
        "\n",
        "The softmax function is defined as:\n",
        " $$ \\text{softmax}(z_{i}) = \\frac{e^{z_{i}}}{\\sum_{j}e^{z_j}}.$$\n",
        "\n",
        "The ReLU (Rectified Linear Unit) function is defined as:\n",
        " $$ \\text{ReLU}(z) = \\max (0,z).$$\n",
        "\n",
        "Each activation function is chosen based on its mathematical properties and how it influences learning dynamics and model performance.\n",
        "\n",
        "Among the options, one activation function is employed for the `hidden layers`, another is utilized for `binary classification` tasks, and the other is applied in `multi-label classification` scenarios.\n",
        "\n",
        "### <span style=\"color:red\"> TO-DO (10')⬇︎</span>\n",
        "<span style=\"color:red\">\n",
        "\n",
        "- Choose the right activation functions, and define them corresponding.\n",
        "</span>\n"
      ]
    },
    {
      "cell_type": "code",
      "execution_count": 16,
      "metadata": {
        "id": "giBJyBqdspXk"
      },
      "outputs": [],
      "source": [
        "## Please implement the activations function below\n",
        "def YourChoosenActivation_1(z):\n",
        "    ## Define your choosen activation ...\n",
        "    # ReLU activation function\n",
        "    return np.maximum(0, z)\n",
        "\n",
        "## Maybe you have to define the 2-nd activation function, define here ...\n",
        "def YourChoosenActivation_2(z):\n",
        "    # Softmax activation function\n",
        "    # num_labels = 10\n",
        "    # so its input is 10\n",
        "    ## Define your choosen activation ...\n",
        "    # for it's a multi-classificati task\n",
        "    # it need softmax\n",
        "    # single_e_i = np.exp(z)\n",
        "    e_z = np.exp(z - np.max(z, axis=1, keepdims=True))\n",
        "    return e_z / np.sum(e_z, axis=1, keepdims=True)"
      ]
    },
    {
      "cell_type": "markdown",
      "metadata": {
        "id": "O1UL13HPspXk"
      },
      "source": [
        "### 2.2 Feedforward\n",
        "\n",
        "We need to complete the feed-forward calculation of the network's output according to the network model. The output of each unit is given by the activation that you choose.\n",
        "\n",
        "Note that for the input and hidden layers, we must append a '1' to the original vector to serve as the bias term.\n",
        "\n",
        "### <span style=\"color:red\"> TO-DO (10')⬇︎</span>\n",
        "<span style=\"color:red\">\n",
        "\n",
        "- Define the feed forward calculation function below.\n",
        "- Identify the sizes of the paramters `theta1` and `theta2`.\n",
        "</span>"
      ]
    },
    {
      "cell_type": "markdown",
      "source": [
        "<mark>Note<mark>\n",
        "add bias term, the bias in **input layer & hidden layer** are different!"
      ],
      "metadata": {
        "id": "0D-Nb5ZF8drT"
      }
    },
    {
      "cell_type": "code",
      "execution_count": 17,
      "metadata": {
        "id": "SfXzRxS-spXk"
      },
      "outputs": [],
      "source": [
        "## Forward Propagation\n",
        "def forward_propagate(X, theta1, theta2):\n",
        "    m = X.shape[0]\n",
        "    ## Add bias term to input\n",
        "    # just for the input layer (not in hidden layer, only works for Input Layers)\n",
        "    # insert as a new column (a new bias column)\n",
        "    a1 = np.insert(X, 0, values=np.ones(m), axis=1)\n",
        "\n",
        "    # shape: (m, input_size + 1) * theta1 shape\n",
        "    z2 = a1 @ theta1.T\n",
        "    # ReLU\n",
        "    a2 = YourChoosenActivation_1(z2)\n",
        "\n",
        "    # Add bias to hidden layer\n",
        "    a2 = np.insert(a2, 0, values=np.ones(m), axis=1)\n",
        "    z3 = a2 @ theta2.T\n",
        "\n",
        "    # softmax (output 10 prob-like results)\n",
        "    h = YourChoosenActivation_2(z3)\n",
        "    return a1, z2, a2, z3, h"
      ]
    },
    {
      "cell_type": "markdown",
      "metadata": {
        "id": "HMDIqcSzspXk"
      },
      "source": [
        "### 2.3 Cost funciton\n",
        "\n",
        "Recall that the cost function for the neural network (with regularization) is given by:\n",
        "\n",
        "Loss Function -> Cross Entropy\n",
        "\n",
        "-+-\n",
        "\n",
        "**The most basic formula:**\n",
        "$$loss = -y_k \\log(h_k)$$\n",
        "\n",
        "-+-\n",
        "\n",
        "**Single Sample's total classes:**\n",
        "$$\\sum_{class=1}^{N_{class}}loss = -y_k \\log(h_k)$$\n",
        "\n",
        "-+-\n",
        "\n",
        "**Batch Samples' total classes**\n",
        "$$\\sum_{sample.No1}^{Batch Size} \\sum_{class=1}^{N_{class}} y_k^{(i)} log(h_k^{i})$$\n",
        "\n",
        "-+-\n",
        "\n",
        "**Batch Average Sample Loss**\n",
        "$$-\\frac{1}{m} \\sum_{sample.No1}^{Batch Size} \\sum_{class=1}^{N_{class}} y_k^{(i)} log(h_k^{i})$$\n",
        "\n",
        "\n",
        "-+-\n",
        "\n",
        "**Regulated Batch Average Sample Loss**\n",
        "$$\n",
        "J(\\theta)= -\\frac{1}{m} \\sum_{i=1}^{m} \\sum_{k=1}^{K} y_k^{(i)} \\log \\left( h_k^{(i)} \\right) + \\frac{\\lambda}{2m}\\left(\\sum_{j=1}^{n_1} \\sum_{l=1}^{d_1} \\theta_{1,jl}^2 + \\sum_{j=1}^{n_2} \\sum_{l=1}^{d_2} \\theta_{2,jl}^2\\right)\n",
        ",$$\n",
        "\n",
        "where the simplifies loss is $ -\\frac{1}{m} \\sum_{i=1}^{m} \\sum_{k=1}^{K} y_k^{(i)} \\log \\left( h_k^{(i)} \\right)$, regularization part is $ \\frac{\\lambda}{2m}\\left(\\sum_{j=1}^{n_1} \\sum_{l=1}^{d_1} \\theta_{1,jl}^2 + \\sum_{j=1}^{n_2} \\sum_{l=1}^{d_2} \\theta_{2,jl}^2\\right)$. Just so you know, you should not be regularizing the terms that correspond to the bias. For the matrices theta1 and theta2, this corresponds to the first column of each matrix. You should now add regularization to your cost function. Notice that you can first compute the unregularized cost function $J$  and then add the cost for the regularization terms.\n",
        "\n",
        "You should implement the feedforward computation to compute $h_\\theta\\left(x^{(i)}\\right)$ for every example $i$ and sum the cost over all examples.\n",
        "\n",
        "Your code should be flexible enough to handle datasets of any size, with any number of labels (you can assume that there are always at least $K ≥ 3$ labels).\n",
        "\n",
        "Now that you have implemented the cost function, before we proceed to the next steps, it's important to verify the correctness of your implementation.\n",
        "\n",
        "### <span style=\"color:red\"> TO-DO (20')⬇︎</span>\n",
        "<span style=\"color:red\">\n",
        "\n",
        "- Implement the cost function below.\n",
        "- Add `comments` in line to explain why and how you add regularization to your cost function.\n",
        "</span>"
      ]
    },
    {
      "cell_type": "code",
      "execution_count": 18,
      "metadata": {
        "id": "w0sceLn5spXk"
      },
      "outputs": [],
      "source": [
        "## Cost Function\n",
        "def cost(theta1, theta2, X, y, lambda_reg=1):\n",
        "    m = X.shape[0]\n",
        "    num_labels = theta2.shape[0]\n",
        "\n",
        "    # need the last output's softmax array results\n",
        "    _, _, _, _, h = forward_propagate(X, theta1, theta2)  # perform forward propagation\n",
        "\n",
        "    # avoid log(0)\n",
        "    epsilon=1e-10\n",
        "    h = np.clip(h, epsilon, 1 - epsilon)\n",
        "\n",
        "    # cross entropy\n",
        "    # y shape: (50000, 10) => .T => (10, 50000)\n",
        "    # h: output's softmax result\n",
        "    # add log to make greater effect of punishment\n",
        "    term1 = np.sum(y * np.log(h))\n",
        "    term2 = np.sum((1 - y) * np.log(1 - h))\n",
        "\n",
        "    J = -(1 / m) * (term1 + term2)\n",
        "\n",
        "    # Regularization term (excluding bias)\n",
        "    reg_term = (lambda_reg / (2 * m)) * (np.sum(np.square(theta1[:, 1:])) + np.sum(np.square(theta2[:, 1:])))\n",
        "\n",
        "    J += reg_term\n",
        "    return J"
      ]
    },
    {
      "cell_type": "markdown",
      "metadata": {
        "id": "AqDFCYqOspXk"
      },
      "source": [
        "## 3. Backpropagation\n",
        "Now, you will implement the backpropagation algorithm.\n",
        "\n",
        "*Recall that the intuition behind the backpropagation algorithm is as follows:*\n",
        "\n",
        "Given a training example $(x^{(t)}, y^{(t)})$, we will first run a \"forward pass\" to compute all the activations throughout the network, including the output value of the hypothesis $h_\\Theta(x)$. Then, for each node $j$ in layer $l$, we compute an \"error term\" $\\delta^{(l)}_j$ that measures how much that node was \"responsible\" for any errors in our output.\n",
        "\n",
        "- 1. *For an output node,* we can directly measure the difference between the network’s activation and the true target value, and use that to define $\\delta^{(3)}_j$ ​\n",
        "  (assuming layer 3 is the output layer).\n",
        "- 2. *For hidden units,* you will compute $\\delta^{(l)}_j$ based on a weighted average of the error terms of the nodes in layer $(l + 1)$.\n",
        "\n",
        "\n",
        "In detail, here is the backpropagation algorithm depicted below. You should implement steps 1 to 4 in a loop that processes one example at a time. Specifically, implement a for-loop for $t = 1:m$ and place steps 1-4 inside the for-loop, with the $t_{th}$iteration performing the calculation on the $t_{th}$ training example $(x^{(t)}, y^{(t)})$. Step 5 will divide the accumulated gradients by\n",
        "$m$ to obtain the gradients for the neural network.\n",
        "\n",
        "![image.png](attachment:image.png)\n",
        "\n",
        "First, let's implment the derivitive function of our $h_\\Theta(x)$, i.e. the derivitive of the sigmoid function\n",
        "\n",
        "### <span style=\"color:red\"> TO-DO (5')⬇︎</span>\n",
        "<span style=\"color:red\">\n",
        "\n",
        "- Implement the derivitive of sigmoid function.\n",
        "</span>"
      ]
    },
    {
      "cell_type": "code",
      "execution_count": 19,
      "metadata": {
        "id": "fTQct9YwspXl"
      },
      "outputs": [],
      "source": [
        "## implement the derivitive of your activation functions below\n",
        "def YourChoosenActivation_1_gradient(x):\n",
        "    ## Your code here\n",
        "    return 0 if x <= 0 else 1\n",
        "\n",
        "def YourChoosenActivation_2_derivative(z):\n",
        "    ## Your code here\n",
        "    m = z.shape[0]\n",
        "\n",
        "    num_labels = 10\n",
        "\n",
        "    jacobian = np.zeros((m, num_labels, num_labels))\n",
        "\n",
        "    for i in range(m):\n",
        "        for j in range(num_labels):\n",
        "            for k in range(num_labels):\n",
        "                if j == k:\n",
        "                    jaconbian[i, j, k] = z[i, j] * (1 - h[i, j])\n",
        "\n",
        "                else:\n",
        "                    jaconbian[i, j, k] = -z[i, j] * h[i, k]\n",
        "\n",
        "    return jaconbian"
      ]
    },
    {
      "cell_type": "markdown",
      "metadata": {
        "id": "LLUmZV-tspXl"
      },
      "source": [
        "### 3.1 Steps to implement backprop algorithm (unregularized)\n",
        "For each data samle $(x^{(t)}, y^{(t)})$ in the dataset $((x^{(1)}, y^{(1)}), (x^{(2)}, y^{(2)}),..., (x^{(m)}, y^{(m)}))$, put the following steps in a for-loop from $t=1:m$:\n",
        "\n",
        "1. Set the input layer’s values $(a^{(1)})$ to the $t^{th}$ training example $x^{(t)}$.\n",
        "Perform a feedforward pass, computing the activations $(z^{(2)}, a^{(2)}, z^{(3)}, a^{(3)})$\n",
        "for layers 2 and 3. Note that you need to add a +1 term to ensure that the vectors of activations for layers $a^{(1)}$ and $a^{(2)}$ also include the bias unit.\n",
        "\n",
        "2. For each output unit $k$ in layer 3 (the output layer), set $\\delta^{(3)}_k = (a^{(3)}_k-y_k)$ (think about why by following the equations given in the lecture notes).\n",
        "\n",
        "3. For the hidden layer $l = 2$, set $ \\delta^{(2)}=(\\Theta^{(2)})^T\\delta^{(3)}.*g'(z^{(2)}) $, where $.*$ means element-wise multiplication between two vectors of the same size.\n",
        "\n",
        "4. Calculate $\\frac{\\partial J^x(\\Theta)}{\\partial \\Theta^{(x,l)}_{ij}} = a^{(x,l)}_j\\delta^{(x,l+1)}_i$, accumulate the gradient of each $\\theta$ by summation of the results from all $m$ data samples.\n",
        "\n",
        "5. Obtain the (unregularized) gradient for the neural network cost function by dividing the accumulated gradients by $m$, $\\frac{\\partial J(\\Theta)}{\\partial \\Theta^{(l)}_{ij}} = \\frac{1}{m} \\Sigma_{x}{a^{(x,l)}_j\\delta^{(x,l+1)}_i}$\n",
        "\n",
        "Finaly, compute the cost function.\n",
        "\n",
        "### <span style=\"color:red\"> TO-DO (10')⬇︎</span>\n",
        "<span style=\"color:red\">\n",
        "\n",
        "- Finish the Backpropagation Function `def backprop()`.\n",
        "- Get the result of the function backprop().\n",
        "</span>"
      ]
    },
    {
      "cell_type": "code",
      "execution_count": 20,
      "metadata": {
        "id": "IVXWqWGtspXl"
      },
      "outputs": [],
      "source": [
        "def backprop(theta1, theta2, X, y, lambda_reg=1):\n",
        "    m = X.shape[0]\n",
        "\n",
        "    ## ===== 1. Fed-forward  =====\n",
        "    a1, z2, a2, z3, h = forward_propagate(X, theta1, theta2)  # Forward propagation\n",
        "\n",
        "    ## ===== 2. Compute predicted errors  =====\n",
        "    delta3 = h - y  # error\n",
        "\n",
        "    ## ===== 3. Backpropagation to hidden layers  =====\n",
        "    delta2 = delta3.dot(theta2[:, 1:]) * (z2 > 0)  # error at hidden layer\n",
        "\n",
        "    # gradient (average)\n",
        "    ## ===== 4. Accumulate gradient =====\n",
        "    theta1_grad = (delta2.T.dot(a1)) / m\n",
        "    theta2_grad = (delta3.T.dot(a2)) / m\n",
        "\n",
        "    ## ===== 5. Regularize gradient =====\n",
        "    # regularization term to gradients (excluding bias)\n",
        "    theta1_grad[:, 1:] += (lambda_reg / m) * theta1[:, 1:]\n",
        "    theta2_grad[:, 1:] += (lambda_reg / m) * theta2[:, 1:]\n",
        "\n",
        "    ## ===== To facilitate parameter update, the gradient is expanded into a one-dimensional vector=====\n",
        "\n",
        "     ## ===== 6. Compute the cost(loss) function=====\n",
        "    J = cost(theta1, theta2, X, y, lambda_reg)\n",
        "\n",
        "    grad = np.concatenate([theta1_grad.ravel(), theta2_grad.ravel()])  # Flatten gradients for optimization\n",
        "\n",
        "    return J, grad"
      ]
    },
    {
      "cell_type": "markdown",
      "metadata": {
        "id": "PeFcUm-6spXl"
      },
      "source": [
        "When implementing the back propagation funtion, you may need a lot of vector multiplication or element-wise vector multiplication, pay attetion to the difference and always check whether the result has the correct shape as you expected.\n",
        "\n",
        "\n",
        "<span style=\"color:red\">\n",
        "Run the following cell, and get the result of the function backprop() ⬇.\n",
        "</span>"
      ]
    },
    {
      "cell_type": "code",
      "execution_count": 21,
      "metadata": {
        "colab": {
          "base_uri": "https://localhost:8080/"
        },
        "id": "z_tYiS0fspXl",
        "outputId": "79b7c240-ce1f-4d53-a4ad-a15021ef9dd2"
      },
      "outputs": [
        {
          "output_type": "execute_result",
          "data": {
            "text/plain": [
              "(np.float64(20.933471562461396), (789258,))"
            ]
          },
          "metadata": {},
          "execution_count": 21
        }
      ],
      "source": [
        "## define the theta parameter vector to check whether the shape is correct or not\n",
        "params = (np.random.random(size=hidden_size * (input_size + 1) + num_labels * (hidden_size + 1)) - 0.5) * 0.5\n",
        "\n",
        "theta1 = np.reshape(params[:hidden_size * (input_size + 1)], (hidden_size, input_size + 1))\n",
        "\n",
        "theta2 = np.reshape(params[hidden_size * (input_size + 1):], (num_labels, hidden_size + 1))\n",
        "\n",
        "J, grad = backprop(theta1, theta2, X_train, y_onehot)\n",
        "J, grad.shape"
      ]
    },
    {
      "cell_type": "markdown",
      "metadata": {
        "id": "fO5yNtJGspXl"
      },
      "source": [
        "## 4. Training the network\n",
        "If everything goes well, it means the cost function and backpropagation algorithm have been correctly implemented to compute gradients during each iteration. Now, we are ready to train the neural network.\n",
        "\n",
        "We will use the mini-batch gradient descent method to update the parameters during training. This involves splitting the dataset into small batches, performing forward and backward propagation for each batch, and updating the parameters accordingly —- similar to the process followed in Assignment-1.\n",
        "\n",
        "\n",
        "\n",
        "### <span style=\"color:red\"> TO-DO (25')⬇︎</span>\n",
        "<span style=\"color:red\">\n",
        "\n",
        "- Define the `Mini-batch gradient descent` function.\n",
        "- Finish the training part.\n",
        "- Get the accuracy of your training result and plot the loss similar as my example. (5')\n",
        "</span>"
      ]
    },
    {
      "cell_type": "markdown",
      "source": [
        "<mark>Framework of Mini-Batch Gradient Descent<mark>\n",
        "\n",
        "- For Epoch (epoch round)\n",
        "```python\n",
        "for epoch in range(num_epochs):\n",
        "```\n",
        "\n",
        "  - Each Single Epoch\n",
        "    - **Many batch split**, a batch is a multi-imgs subset (combine it as a mini-gathering)\n",
        "    ```python\n",
        "      for i in tqdm(range(0, m, batch_size)\n",
        "            X_batch = X_shuffled[i:i+batch_size]\n",
        "            y_batch = y_shuffled[i:i+batch_size]\n",
        "\n",
        "            # backpropagation and get gradients\n",
        "            J, grad = backprop(theta1, theta2, X_batch, y_batch)\n",
        "\n",
        "            # update parameters using the computed gradients\n",
        "            theta1 -= learning_rate * grad[:theta1.size].reshape(theta1.shape)\n",
        "            theta2 -= learning_rate * grad[theta1.size:].reshape(theta2.shape)\n",
        "\n",
        "            epoch_loss += J\n",
        "      \n",
        "      # finish the whole all batches\n",
        "      print(f\"Epoch {epoch+1}/{num_epochs}, Loss: {epoch_loss / batch_size}\")\n",
        "    ```"
      ],
      "metadata": {
        "id": "zvANfwoRCpBz"
      }
    },
    {
      "cell_type": "code",
      "execution_count": 22,
      "metadata": {
        "id": "UBPZlOgyspXl"
      },
      "outputs": [],
      "source": [
        "## Mini-Batch Gradient Descent with Progress Bar\n",
        "def mini_batch_gd(X, y, theta1, theta2, learning_rate, batch_size, num_epochs):\n",
        "    m = X.shape[0]\n",
        "    losses = []\n",
        "\n",
        "    # training process\n",
        "    for epoch in range(num_epochs):\n",
        "        shuffle_indices = np.random.permutation(m)  # shuffle data\n",
        "        X_shuffled = X[shuffle_indices]\n",
        "        y_shuffled = y[shuffle_indices]\n",
        "\n",
        "        epoch_loss = 0\n",
        "\n",
        "        # mini-batch progress\n",
        "        for i in tqdm(range(0, m, batch_size), desc=f\"Epoch {epoch+1}/{num_epochs}\", unit='batch'):\n",
        "            X_batch = X_shuffled[i:i+batch_size]\n",
        "            y_batch = y_shuffled[i:i+batch_size]\n",
        "\n",
        "            # backpropagation and get gradients\n",
        "            J, grad = backprop(theta1, theta2, X_batch, y_batch)\n",
        "\n",
        "            # update parameters using the computed gradients\n",
        "            theta1 -= learning_rate * grad[:theta1.size].reshape(theta1.shape)\n",
        "            theta2 -= learning_rate * grad[theta1.size:].reshape(theta2.shape)\n",
        "\n",
        "            epoch_loss += J\n",
        "\n",
        "        # total loss\n",
        "        print(f\"Epoch {epoch+1}/{num_epochs}, Loss: {epoch_loss/batch_size}\")\n",
        "        losses.append(epoch_loss)\n",
        "\n",
        "    return theta1, theta2, losses\n",
        "\n",
        "# save model's parameters\n",
        "# save in the google drive\n",
        "def save_model(theta1, theta2, filename=\"/content/drive/MyDrive/A3_model_params.npz\"):\n",
        "    # np.savez to save the parameters\n",
        "    np.savez(filename, theta1=theta1, theta2=theta2)\n",
        "    print(f\"Model parameters saved to {filename}\")\n",
        "\n",
        "\n",
        "# load in the model's parameters\n",
        "def load_model(filename=\"model_params.npz\"):\n",
        "    data = np.load(filename)\n",
        "    theta1 = data['theta1']\n",
        "    theta2 = data['theta2']\n",
        "    return theta1, theta2"
      ]
    },
    {
      "cell_type": "markdown",
      "metadata": {
        "id": "o3FQcxFyspXl"
      },
      "source": [
        "Check the accuracy of your network in prediction.\n",
        "\n",
        "Note: the accuracy is around `Accuracy: 51.28%`, the training process may take times."
      ]
    },
    {
      "cell_type": "code",
      "execution_count": 23,
      "metadata": {
        "colab": {
          "base_uri": "https://localhost:8080/"
        },
        "id": "eIuLR7r4spXl",
        "outputId": "b8562ea1-8249-47ec-9894-a09448d8c3f6"
      },
      "outputs": [
        {
          "output_type": "stream",
          "name": "stderr",
          "text": [
            "Epoch 1/50: 100%|██████████| 391/391 [00:12<00:00, 32.38batch/s]\n"
          ]
        },
        {
          "output_type": "stream",
          "name": "stdout",
          "text": [
            "Epoch 1/50, Loss: 10.026134548292712\n"
          ]
        },
        {
          "output_type": "stream",
          "name": "stderr",
          "text": [
            "Epoch 2/50: 100%|██████████| 391/391 [00:12<00:00, 32.36batch/s]\n"
          ]
        },
        {
          "output_type": "stream",
          "name": "stdout",
          "text": [
            "Epoch 2/50, Loss: 10.000377722637003\n"
          ]
        },
        {
          "output_type": "stream",
          "name": "stderr",
          "text": [
            "Epoch 3/50: 100%|██████████| 391/391 [00:13<00:00, 29.71batch/s]\n"
          ]
        },
        {
          "output_type": "stream",
          "name": "stdout",
          "text": [
            "Epoch 3/50, Loss: 9.950218508524475\n"
          ]
        },
        {
          "output_type": "stream",
          "name": "stderr",
          "text": [
            "Epoch 4/50: 100%|██████████| 391/391 [00:12<00:00, 32.29batch/s]\n"
          ]
        },
        {
          "output_type": "stream",
          "name": "stdout",
          "text": [
            "Epoch 4/50, Loss: 9.859150825960093\n"
          ]
        },
        {
          "output_type": "stream",
          "name": "stderr",
          "text": [
            "Epoch 5/50: 100%|██████████| 391/391 [00:08<00:00, 46.46batch/s]\n"
          ]
        },
        {
          "output_type": "stream",
          "name": "stdout",
          "text": [
            "Epoch 5/50, Loss: 9.751417744146847\n"
          ]
        },
        {
          "output_type": "stream",
          "name": "stderr",
          "text": [
            "Epoch 6/50: 100%|██████████| 391/391 [00:11<00:00, 32.82batch/s]\n"
          ]
        },
        {
          "output_type": "stream",
          "name": "stdout",
          "text": [
            "Epoch 6/50, Loss: 9.659965005612952\n"
          ]
        },
        {
          "output_type": "stream",
          "name": "stderr",
          "text": [
            "Epoch 7/50: 100%|██████████| 391/391 [00:12<00:00, 32.37batch/s]\n"
          ]
        },
        {
          "output_type": "stream",
          "name": "stdout",
          "text": [
            "Epoch 7/50, Loss: 9.576048750430271\n"
          ]
        },
        {
          "output_type": "stream",
          "name": "stderr",
          "text": [
            "Epoch 8/50: 100%|██████████| 391/391 [00:12<00:00, 31.25batch/s]\n"
          ]
        },
        {
          "output_type": "stream",
          "name": "stdout",
          "text": [
            "Epoch 8/50, Loss: 9.515224141436835\n"
          ]
        },
        {
          "output_type": "stream",
          "name": "stderr",
          "text": [
            "Epoch 9/50: 100%|██████████| 391/391 [00:12<00:00, 32.09batch/s]\n"
          ]
        },
        {
          "output_type": "stream",
          "name": "stdout",
          "text": [
            "Epoch 9/50, Loss: 9.45717348521304\n"
          ]
        },
        {
          "output_type": "stream",
          "name": "stderr",
          "text": [
            "Epoch 10/50: 100%|██████████| 391/391 [00:08<00:00, 46.74batch/s]\n"
          ]
        },
        {
          "output_type": "stream",
          "name": "stdout",
          "text": [
            "Epoch 10/50, Loss: 9.41703678989253\n"
          ]
        },
        {
          "output_type": "stream",
          "name": "stderr",
          "text": [
            "Epoch 11/50: 100%|██████████| 391/391 [00:12<00:00, 31.77batch/s]\n"
          ]
        },
        {
          "output_type": "stream",
          "name": "stdout",
          "text": [
            "Epoch 11/50, Loss: 9.369333307386917\n"
          ]
        },
        {
          "output_type": "stream",
          "name": "stderr",
          "text": [
            "Epoch 12/50: 100%|██████████| 391/391 [00:12<00:00, 31.96batch/s]\n"
          ]
        },
        {
          "output_type": "stream",
          "name": "stdout",
          "text": [
            "Epoch 12/50, Loss: 9.335391733116305\n"
          ]
        },
        {
          "output_type": "stream",
          "name": "stderr",
          "text": [
            "Epoch 13/50: 100%|██████████| 391/391 [00:12<00:00, 32.04batch/s]\n"
          ]
        },
        {
          "output_type": "stream",
          "name": "stdout",
          "text": [
            "Epoch 13/50, Loss: 9.301124117706685\n"
          ]
        },
        {
          "output_type": "stream",
          "name": "stderr",
          "text": [
            "Epoch 14/50: 100%|██████████| 391/391 [00:11<00:00, 32.93batch/s]\n"
          ]
        },
        {
          "output_type": "stream",
          "name": "stdout",
          "text": [
            "Epoch 14/50, Loss: 9.270288324328481\n"
          ]
        },
        {
          "output_type": "stream",
          "name": "stderr",
          "text": [
            "Epoch 15/50: 100%|██████████| 391/391 [00:08<00:00, 46.90batch/s]\n"
          ]
        },
        {
          "output_type": "stream",
          "name": "stdout",
          "text": [
            "Epoch 15/50, Loss: 9.23481230693077\n"
          ]
        },
        {
          "output_type": "stream",
          "name": "stderr",
          "text": [
            "Epoch 16/50: 100%|██████████| 391/391 [00:11<00:00, 32.60batch/s]\n"
          ]
        },
        {
          "output_type": "stream",
          "name": "stdout",
          "text": [
            "Epoch 16/50, Loss: 9.203149058684561\n"
          ]
        },
        {
          "output_type": "stream",
          "name": "stderr",
          "text": [
            "Epoch 17/50: 100%|██████████| 391/391 [00:12<00:00, 32.50batch/s]\n"
          ]
        },
        {
          "output_type": "stream",
          "name": "stdout",
          "text": [
            "Epoch 17/50, Loss: 9.17386989451178\n"
          ]
        },
        {
          "output_type": "stream",
          "name": "stderr",
          "text": [
            "Epoch 18/50: 100%|██████████| 391/391 [00:12<00:00, 31.48batch/s]\n"
          ]
        },
        {
          "output_type": "stream",
          "name": "stdout",
          "text": [
            "Epoch 18/50, Loss: 9.143073879207066\n"
          ]
        },
        {
          "output_type": "stream",
          "name": "stderr",
          "text": [
            "Epoch 19/50: 100%|██████████| 391/391 [00:08<00:00, 46.14batch/s]\n"
          ]
        },
        {
          "output_type": "stream",
          "name": "stdout",
          "text": [
            "Epoch 19/50, Loss: 9.116923432352595\n"
          ]
        },
        {
          "output_type": "stream",
          "name": "stderr",
          "text": [
            "Epoch 20/50: 100%|██████████| 391/391 [00:11<00:00, 32.84batch/s]\n"
          ]
        },
        {
          "output_type": "stream",
          "name": "stdout",
          "text": [
            "Epoch 20/50, Loss: 9.088729071520364\n"
          ]
        },
        {
          "output_type": "stream",
          "name": "stderr",
          "text": [
            "Epoch 21/50: 100%|██████████| 391/391 [00:12<00:00, 32.24batch/s]\n"
          ]
        },
        {
          "output_type": "stream",
          "name": "stdout",
          "text": [
            "Epoch 21/50, Loss: 9.063872287953703\n"
          ]
        },
        {
          "output_type": "stream",
          "name": "stderr",
          "text": [
            "Epoch 22/50: 100%|██████████| 391/391 [00:12<00:00, 31.68batch/s]\n"
          ]
        },
        {
          "output_type": "stream",
          "name": "stdout",
          "text": [
            "Epoch 22/50, Loss: 9.039231605124447\n"
          ]
        },
        {
          "output_type": "stream",
          "name": "stderr",
          "text": [
            "Epoch 23/50: 100%|██████████| 391/391 [00:11<00:00, 32.99batch/s]\n"
          ]
        },
        {
          "output_type": "stream",
          "name": "stdout",
          "text": [
            "Epoch 23/50, Loss: 9.017320610021372\n"
          ]
        },
        {
          "output_type": "stream",
          "name": "stderr",
          "text": [
            "Epoch 24/50: 100%|██████████| 391/391 [00:08<00:00, 47.26batch/s]\n"
          ]
        },
        {
          "output_type": "stream",
          "name": "stdout",
          "text": [
            "Epoch 24/50, Loss: 8.9916431647771\n"
          ]
        },
        {
          "output_type": "stream",
          "name": "stderr",
          "text": [
            "Epoch 25/50: 100%|██████████| 391/391 [00:12<00:00, 32.21batch/s]\n"
          ]
        },
        {
          "output_type": "stream",
          "name": "stdout",
          "text": [
            "Epoch 25/50, Loss: 8.975240767882424\n"
          ]
        },
        {
          "output_type": "stream",
          "name": "stderr",
          "text": [
            "Epoch 26/50: 100%|██████████| 391/391 [00:11<00:00, 32.61batch/s]\n"
          ]
        },
        {
          "output_type": "stream",
          "name": "stdout",
          "text": [
            "Epoch 26/50, Loss: 8.951889095565774\n"
          ]
        },
        {
          "output_type": "stream",
          "name": "stderr",
          "text": [
            "Epoch 27/50: 100%|██████████| 391/391 [00:12<00:00, 30.70batch/s]\n"
          ]
        },
        {
          "output_type": "stream",
          "name": "stdout",
          "text": [
            "Epoch 27/50, Loss: 8.929214580859018\n"
          ]
        },
        {
          "output_type": "stream",
          "name": "stderr",
          "text": [
            "Epoch 28/50: 100%|██████████| 391/391 [00:12<00:00, 31.56batch/s]\n"
          ]
        },
        {
          "output_type": "stream",
          "name": "stdout",
          "text": [
            "Epoch 28/50, Loss: 8.911519013276282\n"
          ]
        },
        {
          "output_type": "stream",
          "name": "stderr",
          "text": [
            "Epoch 29/50: 100%|██████████| 391/391 [00:14<00:00, 26.43batch/s]\n"
          ]
        },
        {
          "output_type": "stream",
          "name": "stdout",
          "text": [
            "Epoch 29/50, Loss: 8.892392155318174\n"
          ]
        },
        {
          "output_type": "stream",
          "name": "stderr",
          "text": [
            "Epoch 30/50: 100%|██████████| 391/391 [00:09<00:00, 43.09batch/s]\n"
          ]
        },
        {
          "output_type": "stream",
          "name": "stdout",
          "text": [
            "Epoch 30/50, Loss: 8.87081706729549\n"
          ]
        },
        {
          "output_type": "stream",
          "name": "stderr",
          "text": [
            "Epoch 31/50: 100%|██████████| 391/391 [00:12<00:00, 31.86batch/s]\n"
          ]
        },
        {
          "output_type": "stream",
          "name": "stdout",
          "text": [
            "Epoch 31/50, Loss: 8.84190778065709\n"
          ]
        },
        {
          "output_type": "stream",
          "name": "stderr",
          "text": [
            "Epoch 32/50: 100%|██████████| 391/391 [00:12<00:00, 32.21batch/s]\n"
          ]
        },
        {
          "output_type": "stream",
          "name": "stdout",
          "text": [
            "Epoch 32/50, Loss: 8.82293427916949\n"
          ]
        },
        {
          "output_type": "stream",
          "name": "stderr",
          "text": [
            "Epoch 33/50: 100%|██████████| 391/391 [00:12<00:00, 31.40batch/s]\n"
          ]
        },
        {
          "output_type": "stream",
          "name": "stdout",
          "text": [
            "Epoch 33/50, Loss: 8.800912940292847\n"
          ]
        },
        {
          "output_type": "stream",
          "name": "stderr",
          "text": [
            "Epoch 34/50: 100%|██████████| 391/391 [00:10<00:00, 37.65batch/s]\n"
          ]
        },
        {
          "output_type": "stream",
          "name": "stdout",
          "text": [
            "Epoch 34/50, Loss: 8.778197370791975\n"
          ]
        },
        {
          "output_type": "stream",
          "name": "stderr",
          "text": [
            "Epoch 35/50: 100%|██████████| 391/391 [00:10<00:00, 38.98batch/s]\n"
          ]
        },
        {
          "output_type": "stream",
          "name": "stdout",
          "text": [
            "Epoch 35/50, Loss: 8.755174866747637\n"
          ]
        },
        {
          "output_type": "stream",
          "name": "stderr",
          "text": [
            "Epoch 36/50: 100%|██████████| 391/391 [00:12<00:00, 31.93batch/s]\n"
          ]
        },
        {
          "output_type": "stream",
          "name": "stdout",
          "text": [
            "Epoch 36/50, Loss: 8.728049364273613\n"
          ]
        },
        {
          "output_type": "stream",
          "name": "stderr",
          "text": [
            "Epoch 37/50: 100%|██████████| 391/391 [00:11<00:00, 32.90batch/s]\n"
          ]
        },
        {
          "output_type": "stream",
          "name": "stdout",
          "text": [
            "Epoch 37/50, Loss: 8.699846810318045\n"
          ]
        },
        {
          "output_type": "stream",
          "name": "stderr",
          "text": [
            "Epoch 38/50: 100%|██████████| 391/391 [00:15<00:00, 25.99batch/s]\n"
          ]
        },
        {
          "output_type": "stream",
          "name": "stdout",
          "text": [
            "Epoch 38/50, Loss: 8.671100632751427\n"
          ]
        },
        {
          "output_type": "stream",
          "name": "stderr",
          "text": [
            "Epoch 39/50: 100%|██████████| 391/391 [00:10<00:00, 38.70batch/s]\n"
          ]
        },
        {
          "output_type": "stream",
          "name": "stdout",
          "text": [
            "Epoch 39/50, Loss: 8.641707315469658\n"
          ]
        },
        {
          "output_type": "stream",
          "name": "stderr",
          "text": [
            "Epoch 40/50: 100%|██████████| 391/391 [00:10<00:00, 37.00batch/s]\n"
          ]
        },
        {
          "output_type": "stream",
          "name": "stdout",
          "text": [
            "Epoch 40/50, Loss: 8.61015782902277\n"
          ]
        },
        {
          "output_type": "stream",
          "name": "stderr",
          "text": [
            "Epoch 41/50: 100%|██████████| 391/391 [00:12<00:00, 32.10batch/s]\n"
          ]
        },
        {
          "output_type": "stream",
          "name": "stdout",
          "text": [
            "Epoch 41/50, Loss: 8.574640205125554\n"
          ]
        },
        {
          "output_type": "stream",
          "name": "stderr",
          "text": [
            "Epoch 42/50: 100%|██████████| 391/391 [00:12<00:00, 31.69batch/s]\n"
          ]
        },
        {
          "output_type": "stream",
          "name": "stdout",
          "text": [
            "Epoch 42/50, Loss: 8.532411312662518\n"
          ]
        },
        {
          "output_type": "stream",
          "name": "stderr",
          "text": [
            "Epoch 43/50: 100%|██████████| 391/391 [00:12<00:00, 31.40batch/s]\n"
          ]
        },
        {
          "output_type": "stream",
          "name": "stdout",
          "text": [
            "Epoch 43/50, Loss: 8.483207249498223\n"
          ]
        },
        {
          "output_type": "stream",
          "name": "stderr",
          "text": [
            "Epoch 44/50: 100%|██████████| 391/391 [00:08<00:00, 46.20batch/s]\n"
          ]
        },
        {
          "output_type": "stream",
          "name": "stdout",
          "text": [
            "Epoch 44/50, Loss: 8.43035218600676\n"
          ]
        },
        {
          "output_type": "stream",
          "name": "stderr",
          "text": [
            "Epoch 45/50: 100%|██████████| 391/391 [00:12<00:00, 31.10batch/s]\n"
          ]
        },
        {
          "output_type": "stream",
          "name": "stdout",
          "text": [
            "Epoch 45/50, Loss: 8.37494845469198\n"
          ]
        },
        {
          "output_type": "stream",
          "name": "stderr",
          "text": [
            "Epoch 46/50: 100%|██████████| 391/391 [00:12<00:00, 32.43batch/s]\n"
          ]
        },
        {
          "output_type": "stream",
          "name": "stdout",
          "text": [
            "Epoch 46/50, Loss: 8.313339797893606\n"
          ]
        },
        {
          "output_type": "stream",
          "name": "stderr",
          "text": [
            "Epoch 47/50: 100%|██████████| 391/391 [00:12<00:00, 32.32batch/s]\n"
          ]
        },
        {
          "output_type": "stream",
          "name": "stdout",
          "text": [
            "Epoch 47/50, Loss: 8.258389508931632\n"
          ]
        },
        {
          "output_type": "stream",
          "name": "stderr",
          "text": [
            "Epoch 48/50: 100%|██████████| 391/391 [00:12<00:00, 32.49batch/s]\n"
          ]
        },
        {
          "output_type": "stream",
          "name": "stdout",
          "text": [
            "Epoch 48/50, Loss: 8.21281848261163\n"
          ]
        },
        {
          "output_type": "stream",
          "name": "stderr",
          "text": [
            "Epoch 49/50: 100%|██████████| 391/391 [00:08<00:00, 44.29batch/s]\n"
          ]
        },
        {
          "output_type": "stream",
          "name": "stdout",
          "text": [
            "Epoch 49/50, Loss: 8.17802700006876\n"
          ]
        },
        {
          "output_type": "stream",
          "name": "stderr",
          "text": [
            "Epoch 50/50: 100%|██████████| 391/391 [00:15<00:00, 25.16batch/s]"
          ]
        },
        {
          "output_type": "stream",
          "name": "stdout",
          "text": [
            "Epoch 50/50, Loss: 8.143357260119915\n",
            "Model parameters saved to /content/drive/MyDrive/A3_model_params.npz\n"
          ]
        },
        {
          "output_type": "stream",
          "name": "stderr",
          "text": [
            "\n"
          ]
        }
      ],
      "source": [
        "from tqdm import tqdm\n",
        "\n",
        "## Initialize parameters, complete your training step\n",
        "initial_theta1 = np.random.rand(128, 3073) * 0.01\n",
        "initial_theta2 = np.random.rand(10, 129) * 0.01\n",
        "\n",
        "theta1, theta2, losses = mini_batch_gd(X_train, y_onehot, initial_theta1, initial_theta2,\n",
        "                                        learning_rate=0.001, batch_size=128, num_epochs=50)\n",
        "\n",
        "save_model(theta1, theta2)"
      ]
    },
    {
      "cell_type": "code",
      "execution_count": 24,
      "metadata": {
        "colab": {
          "base_uri": "https://localhost:8080/"
        },
        "id": "mmfHnwVnspXl",
        "outputId": "9f2487d8-78ac-4bd8-894a-27ecbba80906"
      },
      "outputs": [
        {
          "output_type": "stream",
          "name": "stdout",
          "text": [
            "Accuracy: 37.46%\n"
          ]
        }
      ],
      "source": [
        "## Predict the class labels, you need to get the model your training obtained,\n",
        "## and predict the class labels ...\n",
        "## Your code here ...\n",
        "## Your code here ...\n",
        "\n",
        "def predict(X, theta1, theta2):\n",
        "    # forward propagation to get the activations\n",
        "    _, _, _, _, h = forward_propagate(X, theta1, theta2)\n",
        "\n",
        "    # get predicted class labels (index of the maximum probability)\n",
        "    y_pred = np.argmax(h, axis=1)  # Shape: (m,)\n",
        "\n",
        "    return y_pred\n",
        "\n",
        "\n",
        "y_test = np.array(y_test)\n",
        "\n",
        "# predict the class labels for the test set\n",
        "y_pred = predict(X_test, theta1, theta2)\n",
        "\n",
        "\n",
        "if y_test.ndim == 2:\n",
        "    y_test_labels = np.argmax(y_test, axis=1)  # convert one-hot to class labels\n",
        "else:\n",
        "    y_test_labels = y_test\n",
        "\n",
        "## Calculate the accuracy\n",
        "accuracy = np.mean(y_pred == y_test_labels)\n",
        "print(f'Accuracy: {accuracy * 100:.2f}%')"
      ]
    },
    {
      "cell_type": "markdown",
      "source": [
        "<mark>The Accuracy is nearly 51.51% within 500 epochs</mark>"
      ],
      "metadata": {
        "id": "RP6mgXy0DRoF"
      }
    },
    {
      "cell_type": "markdown",
      "metadata": {
        "id": "wntQ0jRWspXm"
      },
      "source": [
        "Plot the Loss image."
      ]
    },
    {
      "cell_type": "code",
      "execution_count": 31,
      "metadata": {
        "colab": {
          "base_uri": "https://localhost:8080/",
          "height": 388
        },
        "id": "NaWRLxFDspXm",
        "outputId": "a52e70b9-072a-45b1-e8f0-87e2efe3e28d"
      },
      "outputs": [
        {
          "output_type": "display_data",
          "data": {
            "text/plain": [
              "<Figure size 500x400 with 1 Axes>"
            ],
            "image/png": "[encoded data removed]"
          },
          "metadata": {}
        }
      ],
      "source": [
        "batch_size = 128\n",
        "plt.figure(1,figsize=(5, 4))\n",
        "plt.plot(range(int(len(losses))), [each/batch_size for each in losses], 'r')\n",
        "plt.xlabel('Iterations')\n",
        "\n",
        "# total loss\n",
        "plt.ylabel('Batch Total Cost')\n",
        "plt.show()"
      ]
    },
    {
      "cell_type": "code",
      "execution_count": 25,
      "metadata": {
        "id": "8_GeWdE2spXm"
      },
      "outputs": [],
      "source": []
    },
    {
      "cell_type": "code",
      "execution_count": 25,
      "metadata": {
        "id": "VjG1s4x7spXs"
      },
      "outputs": [],
      "source": []
    }
  ],
  "metadata": {
    "kernelspec": {
      "display_name": "Python 3",
      "language": "python",
      "name": "python3"
    },
    "language_info": {
      "codemirror_mode": {
        "name": "ipython",
        "version": 3
      },
      "file_extension": ".py",
      "mimetype": "text/x-python",
      "name": "python",
      "nbconvert_exporter": "python",
      "pygments_lexer": "ipython3",
      "version": "3.11.5"
    },
    "colab": {
      "provenance": []
    }
  },
  "nbformat": 4,
  "nbformat_minor": 0
}